{
 "cells": [
  {
   "cell_type": "markdown",
   "metadata": {},
   "source": [
    "## Observations and Insights "
   ]
  },
  {
   "cell_type": "markdown",
   "metadata": {},
   "source": []
  },
  {
   "cell_type": "code",
   "execution_count": 18,
   "metadata": {},
   "outputs": [],
   "source": [
    "# Dependencies and Setup\n",
    "import matplotlib.pyplot as plt\n",
    "import pandas as pd\n",
    "import scipy.stats as st\n",
    "\n",
    "# Study data files\n",
    "mouse_metadata_path = \"data/Mouse_metadata.csv\"\n",
    "study_results_path = \"data/Study_results.csv\"\n",
    "\n",
    "# Read the mouse data and the study results\n",
    "mouse_metadata = pd.read_csv(mouse_metadata_path)\n",
    "study_results = pd.read_csv(study_results_path)"
   ]
  },
  {
   "cell_type": "code",
   "execution_count": 19,
   "metadata": {},
   "outputs": [
    {
     "data": {
      "text/html": [
       "<div>\n",
       "<style scoped>\n",
       "    .dataframe tbody tr th:only-of-type {\n",
       "        vertical-align: middle;\n",
       "    }\n",
       "\n",
       "    .dataframe tbody tr th {\n",
       "        vertical-align: top;\n",
       "    }\n",
       "\n",
       "    .dataframe thead th {\n",
       "        text-align: right;\n",
       "    }\n",
       "</style>\n",
       "<table border=\"1\" class=\"dataframe\">\n",
       "  <thead>\n",
       "    <tr style=\"text-align: right;\">\n",
       "      <th></th>\n",
       "      <th>Mouse ID</th>\n",
       "      <th>Drug Regimen</th>\n",
       "      <th>Sex</th>\n",
       "      <th>Age_months</th>\n",
       "      <th>Weight (g)</th>\n",
       "    </tr>\n",
       "  </thead>\n",
       "  <tbody>\n",
       "    <tr>\n",
       "      <th>0</th>\n",
       "      <td>k403</td>\n",
       "      <td>Ramicane</td>\n",
       "      <td>Male</td>\n",
       "      <td>21</td>\n",
       "      <td>16</td>\n",
       "    </tr>\n",
       "    <tr>\n",
       "      <th>1</th>\n",
       "      <td>s185</td>\n",
       "      <td>Capomulin</td>\n",
       "      <td>Female</td>\n",
       "      <td>3</td>\n",
       "      <td>17</td>\n",
       "    </tr>\n",
       "    <tr>\n",
       "      <th>2</th>\n",
       "      <td>x401</td>\n",
       "      <td>Capomulin</td>\n",
       "      <td>Female</td>\n",
       "      <td>16</td>\n",
       "      <td>15</td>\n",
       "    </tr>\n",
       "    <tr>\n",
       "      <th>3</th>\n",
       "      <td>m601</td>\n",
       "      <td>Capomulin</td>\n",
       "      <td>Male</td>\n",
       "      <td>22</td>\n",
       "      <td>17</td>\n",
       "    </tr>\n",
       "    <tr>\n",
       "      <th>4</th>\n",
       "      <td>g791</td>\n",
       "      <td>Ramicane</td>\n",
       "      <td>Male</td>\n",
       "      <td>11</td>\n",
       "      <td>16</td>\n",
       "    </tr>\n",
       "  </tbody>\n",
       "</table>\n",
       "</div>"
      ],
      "text/plain": [
       "  Mouse ID Drug Regimen     Sex  Age_months  Weight (g)\n",
       "0     k403     Ramicane    Male          21          16\n",
       "1     s185    Capomulin  Female           3          17\n",
       "2     x401    Capomulin  Female          16          15\n",
       "3     m601    Capomulin    Male          22          17\n",
       "4     g791     Ramicane    Male          11          16"
      ]
     },
     "execution_count": 19,
     "metadata": {},
     "output_type": "execute_result"
    }
   ],
   "source": [
    "mouse_metadata.head()"
   ]
  },
  {
   "cell_type": "code",
   "execution_count": 20,
   "metadata": {},
   "outputs": [
    {
     "data": {
      "text/html": [
       "<div>\n",
       "<style scoped>\n",
       "    .dataframe tbody tr th:only-of-type {\n",
       "        vertical-align: middle;\n",
       "    }\n",
       "\n",
       "    .dataframe tbody tr th {\n",
       "        vertical-align: top;\n",
       "    }\n",
       "\n",
       "    .dataframe thead th {\n",
       "        text-align: right;\n",
       "    }\n",
       "</style>\n",
       "<table border=\"1\" class=\"dataframe\">\n",
       "  <thead>\n",
       "    <tr style=\"text-align: right;\">\n",
       "      <th></th>\n",
       "      <th>Mouse ID</th>\n",
       "      <th>Timepoint</th>\n",
       "      <th>Tumor Volume (mm3)</th>\n",
       "      <th>Metastatic Sites</th>\n",
       "    </tr>\n",
       "  </thead>\n",
       "  <tbody>\n",
       "    <tr>\n",
       "      <th>0</th>\n",
       "      <td>b128</td>\n",
       "      <td>0</td>\n",
       "      <td>45.0</td>\n",
       "      <td>0</td>\n",
       "    </tr>\n",
       "    <tr>\n",
       "      <th>1</th>\n",
       "      <td>f932</td>\n",
       "      <td>0</td>\n",
       "      <td>45.0</td>\n",
       "      <td>0</td>\n",
       "    </tr>\n",
       "    <tr>\n",
       "      <th>2</th>\n",
       "      <td>g107</td>\n",
       "      <td>0</td>\n",
       "      <td>45.0</td>\n",
       "      <td>0</td>\n",
       "    </tr>\n",
       "    <tr>\n",
       "      <th>3</th>\n",
       "      <td>a457</td>\n",
       "      <td>0</td>\n",
       "      <td>45.0</td>\n",
       "      <td>0</td>\n",
       "    </tr>\n",
       "    <tr>\n",
       "      <th>4</th>\n",
       "      <td>c819</td>\n",
       "      <td>0</td>\n",
       "      <td>45.0</td>\n",
       "      <td>0</td>\n",
       "    </tr>\n",
       "  </tbody>\n",
       "</table>\n",
       "</div>"
      ],
      "text/plain": [
       "  Mouse ID  Timepoint  Tumor Volume (mm3)  Metastatic Sites\n",
       "0     b128          0                45.0                 0\n",
       "1     f932          0                45.0                 0\n",
       "2     g107          0                45.0                 0\n",
       "3     a457          0                45.0                 0\n",
       "4     c819          0                45.0                 0"
      ]
     },
     "execution_count": 20,
     "metadata": {},
     "output_type": "execute_result"
    }
   ],
   "source": [
    "study_results.head()"
   ]
  },
  {
   "cell_type": "code",
   "execution_count": 21,
   "metadata": {},
   "outputs": [
    {
     "name": "stdout",
     "output_type": "stream",
     "text": [
      "     Mouse ID Drug Regimen   Sex  Age_months  Weight (g)  Timepoint  \\\n",
      "0        k403     Ramicane  Male          21          16          0   \n",
      "1        k403     Ramicane  Male          21          16          5   \n",
      "2        k403     Ramicane  Male          21          16         10   \n",
      "3        k403     Ramicane  Male          21          16         15   \n",
      "4        k403     Ramicane  Male          21          16         20   \n",
      "...       ...          ...   ...         ...         ...        ...   \n",
      "1888     z969     Naftisol  Male           9          30         25   \n",
      "1889     z969     Naftisol  Male           9          30         30   \n",
      "1890     z969     Naftisol  Male           9          30         35   \n",
      "1891     z969     Naftisol  Male           9          30         40   \n",
      "1892     z969     Naftisol  Male           9          30         45   \n",
      "\n",
      "      Tumor Volume (mm3)  Metastatic Sites  \n",
      "0              45.000000                 0  \n",
      "1              38.825898                 0  \n",
      "2              35.014271                 1  \n",
      "3              34.223992                 1  \n",
      "4              32.997729                 1  \n",
      "...                  ...               ...  \n",
      "1888           63.145652                 2  \n",
      "1889           65.841013                 3  \n",
      "1890           69.176246                 4  \n",
      "1891           70.314904                 4  \n",
      "1892           73.867845                 4  \n",
      "\n",
      "[1893 rows x 8 columns]\n"
     ]
    }
   ],
   "source": [
    "# Combine the data into a single dataset\n",
    "# Display the data table for preview\n",
    "mouse_data_df = pd.merge(mouse_metadata, study_results, on=\"Mouse ID\")\n",
    "print(mouse_data_df)"
   ]
  },
  {
   "cell_type": "code",
   "execution_count": 22,
   "metadata": {},
   "outputs": [
    {
     "data": {
      "text/plain": [
       "g989    13\n",
       "w422    10\n",
       "x581    10\n",
       "t718    10\n",
       "y163    10\n",
       "        ..\n",
       "u153     1\n",
       "l872     1\n",
       "h428     1\n",
       "x336     1\n",
       "t573     1\n",
       "Name: Mouse ID, Length: 249, dtype: int64"
      ]
     },
     "execution_count": 22,
     "metadata": {},
     "output_type": "execute_result"
    }
   ],
   "source": [
    "# Checking the number of mice\n",
    "count = mouse_data_df[\"Mouse ID\"].value_counts()\n",
    "count"
   ]
  },
  {
   "cell_type": "code",
   "execution_count": 23,
   "metadata": {},
   "outputs": [
    {
     "data": {
      "text/plain": [
       "Capomulin    230\n",
       "Ramicane     228\n",
       "Ketapril     188\n",
       "Naftisol     186\n",
       "Zoniferol    182\n",
       "Placebo      181\n",
       "Stelasyn     181\n",
       "Ceftamin     178\n",
       "Infubinol    178\n",
       "Propriva     161\n",
       "Name: Drug Regimen, dtype: int64"
      ]
     },
     "execution_count": 23,
     "metadata": {},
     "output_type": "execute_result"
    }
   ],
   "source": [
    "# Counting the different drug regimens\n",
    "count = mouse_data_df[\"Drug Regimen\"].value_counts()\n",
    "count"
   ]
  },
  {
   "cell_type": "code",
   "execution_count": 24,
   "metadata": {
    "scrolled": true
   },
   "outputs": [
    {
     "data": {
      "text/plain": [
       "Index(['Mouse ID', 'Drug Regimen', 'Sex', 'Age_months', 'Weight (g)',\n",
       "       'Timepoint', 'Tumor Volume (mm3)', 'Metastatic Sites'],\n",
       "      dtype='object')"
      ]
     },
     "execution_count": 24,
     "metadata": {},
     "output_type": "execute_result"
    }
   ],
   "source": [
    "# Getting a list of all the columns\n",
    "mouse_data_df.columns"
   ]
  },
  {
   "cell_type": "code",
   "execution_count": 49,
   "metadata": {
    "scrolled": true
   },
   "outputs": [
    {
     "ename": "SyntaxError",
     "evalue": "invalid syntax (<ipython-input-49-40de24f8e5ee>, line 2)",
     "output_type": "error",
     "traceback": [
      "\u001b[1;36m  File \u001b[1;32m\"<ipython-input-49-40de24f8e5ee>\"\u001b[1;36m, line \u001b[1;32m2\u001b[0m\n\u001b[1;33m    mouse_data_df = mouse_data_df.loc[(mouse_data_df[\"Mouse ID\"].duplicated{subset=\"Timepoint\", keep='first', inplace=False})]\u001b[0m\n\u001b[1;37m                                                                           ^\u001b[0m\n\u001b[1;31mSyntaxError\u001b[0m\u001b[1;31m:\u001b[0m invalid syntax\n"
     ]
    }
   ],
   "source": [
    "# Getting the duplicate mice by ID number that shows up for Mouse ID and Timepoint. \n",
    "mouse_data_df = mouse_data_df.loc[(mouse_data_df[\"Mouse ID\"].duplicated{subset=\"Timepoint\", keep='first', inplace=False})]"
   ]
  },
  {
   "cell_type": "code",
   "execution_count": 26,
   "metadata": {},
   "outputs": [],
   "source": [
    "# Dropping duplicate timepoints\n",
    "# For True in \"Time Point\" delete row\n",
    "mouse_data_df = mouse_data_df.drop_duplicates(subset=\"Timepoint\"\n",
    "                                              if value in\"Timepoint\"=True\n",
    "                                                  then \n",
    "\n",
    "mouse_data_df = mouse_data_df.loc[(\n",
    "    mouse_data_df[\"Timepoint\"]=True)]\n",
    "mouse_data_df.head()"
   ]
  },
  {
   "cell_type": "code",
   "execution_count": 42,
   "metadata": {},
   "outputs": [
    {
     "data": {
      "text/html": [
       "<div>\n",
       "<style scoped>\n",
       "    .dataframe tbody tr th:only-of-type {\n",
       "        vertical-align: middle;\n",
       "    }\n",
       "\n",
       "    .dataframe tbody tr th {\n",
       "        vertical-align: top;\n",
       "    }\n",
       "\n",
       "    .dataframe thead th {\n",
       "        text-align: right;\n",
       "    }\n",
       "</style>\n",
       "<table border=\"1\" class=\"dataframe\">\n",
       "  <thead>\n",
       "    <tr style=\"text-align: right;\">\n",
       "      <th></th>\n",
       "      <th>Mouse ID</th>\n",
       "      <th>Drug Regimen</th>\n",
       "      <th>Sex</th>\n",
       "      <th>Age_months</th>\n",
       "      <th>Weight (g)</th>\n",
       "      <th>Timepoint</th>\n",
       "      <th>Tumor Volume (mm3)</th>\n",
       "      <th>Metastatic Sites</th>\n",
       "    </tr>\n",
       "  </thead>\n",
       "  <tbody>\n",
       "    <tr>\n",
       "      <th>0</th>\n",
       "      <td>k403</td>\n",
       "      <td>Ramicane</td>\n",
       "      <td>Male</td>\n",
       "      <td>21</td>\n",
       "      <td>16</td>\n",
       "      <td>0</td>\n",
       "      <td>45.000000</td>\n",
       "      <td>0</td>\n",
       "    </tr>\n",
       "    <tr>\n",
       "      <th>1</th>\n",
       "      <td>k403</td>\n",
       "      <td>Ramicane</td>\n",
       "      <td>Male</td>\n",
       "      <td>21</td>\n",
       "      <td>16</td>\n",
       "      <td>5</td>\n",
       "      <td>38.825898</td>\n",
       "      <td>0</td>\n",
       "    </tr>\n",
       "    <tr>\n",
       "      <th>2</th>\n",
       "      <td>k403</td>\n",
       "      <td>Ramicane</td>\n",
       "      <td>Male</td>\n",
       "      <td>21</td>\n",
       "      <td>16</td>\n",
       "      <td>10</td>\n",
       "      <td>35.014271</td>\n",
       "      <td>1</td>\n",
       "    </tr>\n",
       "    <tr>\n",
       "      <th>3</th>\n",
       "      <td>k403</td>\n",
       "      <td>Ramicane</td>\n",
       "      <td>Male</td>\n",
       "      <td>21</td>\n",
       "      <td>16</td>\n",
       "      <td>15</td>\n",
       "      <td>34.223992</td>\n",
       "      <td>1</td>\n",
       "    </tr>\n",
       "    <tr>\n",
       "      <th>4</th>\n",
       "      <td>k403</td>\n",
       "      <td>Ramicane</td>\n",
       "      <td>Male</td>\n",
       "      <td>21</td>\n",
       "      <td>16</td>\n",
       "      <td>20</td>\n",
       "      <td>32.997729</td>\n",
       "      <td>1</td>\n",
       "    </tr>\n",
       "  </tbody>\n",
       "</table>\n",
       "</div>"
      ],
      "text/plain": [
       "  Mouse ID Drug Regimen   Sex  Age_months  Weight (g)  Timepoint  \\\n",
       "0     k403     Ramicane  Male          21          16          0   \n",
       "1     k403     Ramicane  Male          21          16          5   \n",
       "2     k403     Ramicane  Male          21          16         10   \n",
       "3     k403     Ramicane  Male          21          16         15   \n",
       "4     k403     Ramicane  Male          21          16         20   \n",
       "\n",
       "   Tumor Volume (mm3)  Metastatic Sites  \n",
       "0           45.000000                 0  \n",
       "1           38.825898                 0  \n",
       "2           35.014271                 1  \n",
       "3           34.223992                 1  \n",
       "4           32.997729                 1  "
      ]
     },
     "execution_count": 42,
     "metadata": {},
     "output_type": "execute_result"
    }
   ],
   "source": [
    "# Create a clean DataFrame by dropping the duplicate mouse by its ID.\n",
    "clean_mouse_df = mouse_data_df\n",
    "clean_mouse_df.head()"
   ]
  },
  {
   "cell_type": "code",
   "execution_count": 28,
   "metadata": {},
   "outputs": [
    {
     "data": {
      "text/plain": [
       "k403    10\n",
       "Name: Mouse ID, dtype: int64"
      ]
     },
     "execution_count": 28,
     "metadata": {},
     "output_type": "execute_result"
    }
   ],
   "source": [
    "# Checking the number of mice in the clean DataFrame.\n",
    "count = clean_mouse_df[\"Mouse ID\"].value_counts()\n",
    "count"
   ]
  },
  {
   "cell_type": "markdown",
   "metadata": {},
   "source": [
    "## Summary Statistics"
   ]
  },
  {
   "cell_type": "code",
   "execution_count": 29,
   "metadata": {},
   "outputs": [
    {
     "data": {
      "text/html": [
       "<div>\n",
       "<style scoped>\n",
       "    .dataframe tbody tr th:only-of-type {\n",
       "        vertical-align: middle;\n",
       "    }\n",
       "\n",
       "    .dataframe tbody tr th {\n",
       "        vertical-align: top;\n",
       "    }\n",
       "\n",
       "    .dataframe thead th {\n",
       "        text-align: right;\n",
       "    }\n",
       "</style>\n",
       "<table border=\"1\" class=\"dataframe\">\n",
       "  <thead>\n",
       "    <tr style=\"text-align: right;\">\n",
       "      <th></th>\n",
       "      <th>Age_months</th>\n",
       "      <th>Weight (g)</th>\n",
       "      <th>Timepoint</th>\n",
       "      <th>Tumor Volume (mm3)</th>\n",
       "      <th>Metastatic Sites</th>\n",
       "    </tr>\n",
       "  </thead>\n",
       "  <tbody>\n",
       "    <tr>\n",
       "      <th>count</th>\n",
       "      <td>10.0</td>\n",
       "      <td>10.0</td>\n",
       "      <td>10.000000</td>\n",
       "      <td>10.000000</td>\n",
       "      <td>10.000000</td>\n",
       "    </tr>\n",
       "    <tr>\n",
       "      <th>mean</th>\n",
       "      <td>21.0</td>\n",
       "      <td>16.0</td>\n",
       "      <td>22.500000</td>\n",
       "      <td>32.358859</td>\n",
       "      <td>0.800000</td>\n",
       "    </tr>\n",
       "    <tr>\n",
       "      <th>std</th>\n",
       "      <td>0.0</td>\n",
       "      <td>0.0</td>\n",
       "      <td>15.138252</td>\n",
       "      <td>6.825680</td>\n",
       "      <td>0.421637</td>\n",
       "    </tr>\n",
       "    <tr>\n",
       "      <th>min</th>\n",
       "      <td>21.0</td>\n",
       "      <td>16.0</td>\n",
       "      <td>0.000000</td>\n",
       "      <td>22.050126</td>\n",
       "      <td>0.000000</td>\n",
       "    </tr>\n",
       "    <tr>\n",
       "      <th>25%</th>\n",
       "      <td>21.0</td>\n",
       "      <td>16.0</td>\n",
       "      <td>11.250000</td>\n",
       "      <td>27.685119</td>\n",
       "      <td>1.000000</td>\n",
       "    </tr>\n",
       "    <tr>\n",
       "      <th>50%</th>\n",
       "      <td>21.0</td>\n",
       "      <td>16.0</td>\n",
       "      <td>22.500000</td>\n",
       "      <td>33.231153</td>\n",
       "      <td>1.000000</td>\n",
       "    </tr>\n",
       "    <tr>\n",
       "      <th>75%</th>\n",
       "      <td>21.0</td>\n",
       "      <td>16.0</td>\n",
       "      <td>33.750000</td>\n",
       "      <td>34.816702</td>\n",
       "      <td>1.000000</td>\n",
       "    </tr>\n",
       "    <tr>\n",
       "      <th>max</th>\n",
       "      <td>21.0</td>\n",
       "      <td>16.0</td>\n",
       "      <td>45.000000</td>\n",
       "      <td>45.000000</td>\n",
       "      <td>1.000000</td>\n",
       "    </tr>\n",
       "  </tbody>\n",
       "</table>\n",
       "</div>"
      ],
      "text/plain": [
       "       Age_months  Weight (g)  Timepoint  Tumor Volume (mm3)  Metastatic Sites\n",
       "count        10.0        10.0  10.000000           10.000000         10.000000\n",
       "mean         21.0        16.0  22.500000           32.358859          0.800000\n",
       "std           0.0         0.0  15.138252            6.825680          0.421637\n",
       "min          21.0        16.0   0.000000           22.050126          0.000000\n",
       "25%          21.0        16.0  11.250000           27.685119          1.000000\n",
       "50%          21.0        16.0  22.500000           33.231153          1.000000\n",
       "75%          21.0        16.0  33.750000           34.816702          1.000000\n",
       "max          21.0        16.0  45.000000           45.000000          1.000000"
      ]
     },
     "execution_count": 29,
     "metadata": {},
     "output_type": "execute_result"
    }
   ],
   "source": [
    "# Generate a summary statistics table of mean, median, variance, standard deviation, and SEM of the tumor volume for each regimen\n",
    "clean_mouse_df.describe()"
   ]
  },
  {
   "cell_type": "code",
   "execution_count": null,
   "metadata": {},
   "outputs": [],
   "source": [
    "# Use groupby and summary statistical methods to calculate the following properties of each drug regimen: \n",
    "# mean, median, variance, standard deviation, and SEM of the tumor volume.                        "
   ]
  },
  {
   "cell_type": "code",
   "execution_count": 30,
   "metadata": {},
   "outputs": [
    {
     "ename": "SyntaxError",
     "evalue": "invalid syntax (<ipython-input-30-dcb45fc1ea3a>, line 3)",
     "output_type": "error",
     "traceback": [
      "\u001b[1;36m  File \u001b[1;32m\"<ipython-input-30-dcb45fc1ea3a>\"\u001b[1;36m, line \u001b[1;32m3\u001b[0m\n\u001b[1;33m    capomulin_mean_numpy = np.mean(Tumor Volume (mm3))\u001b[0m\n\u001b[1;37m                                         ^\u001b[0m\n\u001b[1;31mSyntaxError\u001b[0m\u001b[1;31m:\u001b[0m invalid syntax\n"
     ]
    }
   ],
   "source": [
    "#Capomulin\n",
    "#mean\n",
    "capomulin_mean_numpy = np.mean(Tumor Volume (mm3))\n",
    "print(f\"The mean tumor volume for Capomulin is {round(capomulin_mean_numpy),2} mm3.\")\n",
    "\n",
    "#median\n",
    "capomulin_median_numpy = np.median(Tumor Volume (mm3))\n",
    "print(f\"The median tumor volume for Capomulin is {round(capomulin_median_numpy),2}\")\n",
    "\n",
    "#variance\n",
    "capomulin_var_numpy = np.var(Tumor Volume (mm3),ddof = 0)\n",
    "print(f\"The population variance for Capomulin using the NumPy module is {round(capomulin_var_numpy),2}\")\n",
    "\n",
    "#standard deviation\n",
    "capomulin_sd_numpy = np.std((Tumor Volume (mm3),ddof = 0)\n",
    "print(f\"The population standard deviation for Capomulin using the NumPy module is {round(capomulin_sd_numpy),2}\")\n",
    "\n",
    "#SEM\n",
    "sample = capomulin_tumor_volume.sample(30)\n",
    "print(f\"The SEM value for the Capomulin sample of tumor volume is {sem(sample.capomulin.Tumor Volume (mm3)}\")     "
   ]
  },
  {
   "cell_type": "code",
   "execution_count": 31,
   "metadata": {},
   "outputs": [
    {
     "ename": "SyntaxError",
     "evalue": "invalid syntax (<ipython-input-31-8abcd6eac2a5>, line 3)",
     "output_type": "error",
     "traceback": [
      "\u001b[1;36m  File \u001b[1;32m\"<ipython-input-31-8abcd6eac2a5>\"\u001b[1;36m, line \u001b[1;32m3\u001b[0m\n\u001b[1;33m    ramicane_mean_numpy = np.mean(Tumor Volume (mm3))\u001b[0m\n\u001b[1;37m                                        ^\u001b[0m\n\u001b[1;31mSyntaxError\u001b[0m\u001b[1;31m:\u001b[0m invalid syntax\n"
     ]
    }
   ],
   "source": [
    "#Ramicane\n",
    "#mean\n",
    "ramicane_mean_numpy = np.mean(Tumor Volume (mm3))\n",
    "print(f\"The mean tumor volume for Ramicane is {round(ramicane_mean_numpy),2} mm3.\")\n",
    "\n",
    "#median\n",
    "ramicane_median_numpy = np.median(Tumor Volume (mm3))\n",
    "print(f\"The median tumor volume for Ramicane is {round(ramicane_median_numpy),2}\")\n",
    "\n",
    "#variance\n",
    "ramicane_var_numpy = np.var(Tumor Volume (mm3),ddof = 0)\n",
    "print(f\"The population variance for Ramicane using the NumPy module is {round(ramicane_var_numpy),2}\")\n",
    "\n",
    "#standard deviation\n",
    "ramicane_sd_numpy = np.std((Tumor Volume (mm3),ddof = 0)\n",
    "print(f\"The population standard deviation for Ramicane using the NumPy module is {round(ramicane_sd_numpy),2}\")\n",
    "\n",
    "#SEM\n",
    "sample = ramicane_tumor_volume.sample(30)\n",
    "print(f\"The SEM value for the Ramicane sample of tumor volume is {sem(sample.ramicane.Tumor Volume (mm3)}\")     "
   ]
  },
  {
   "cell_type": "code",
   "execution_count": 32,
   "metadata": {},
   "outputs": [
    {
     "ename": "SyntaxError",
     "evalue": "invalid syntax (<ipython-input-32-3aeb65c4c572>, line 3)",
     "output_type": "error",
     "traceback": [
      "\u001b[1;36m  File \u001b[1;32m\"<ipython-input-32-3aeb65c4c572>\"\u001b[1;36m, line \u001b[1;32m3\u001b[0m\n\u001b[1;33m    ketapril_mean_numpy = np.mean(Tumor Volume (mm3))\u001b[0m\n\u001b[1;37m                                        ^\u001b[0m\n\u001b[1;31mSyntaxError\u001b[0m\u001b[1;31m:\u001b[0m invalid syntax\n"
     ]
    }
   ],
   "source": [
    "#Ketapril\n",
    "#mean\n",
    "ketapril_mean_numpy = np.mean(Tumor Volume (mm3))\n",
    "print(f\"The mean tumor volume for Ketapril is {round(ketapril_mean_numpy),2} mm3.\")\n",
    "\n",
    "#median\n",
    "ketapril_median_numpy = np.median(Tumor Volume (mm3))\n",
    "print(f\"The median tumor volume for Ketapril is {round(ketapril_median_numpy),2}\")\n",
    "\n",
    "#variance\n",
    "ketapril_var_numpy = np.var(Tumor Volume (mm3),ddof = 0)\n",
    "print(f\"The population variance for Ketapril using the NumPy module is {round(ketapril_var_numpy),2}\")\n",
    "\n",
    "#standard deviation\n",
    "ketapril_sd_numpy = np.std((Tumor Volume (mm3),ddof = 0)\n",
    "print(f\"The population standard deviation for Ketapril using the NumPy module is {round(ketapril_sd_numpy),2}\")\n",
    "\n",
    "#SEM\n",
    "sample = ketapril_tumor_volume.sample(30)\n",
    "print(f\"The SEM value for the Ketapril sample of tumor volume is {sem(sample.ketapril.Tumor Volume (mm3)}\")     "
   ]
  },
  {
   "cell_type": "code",
   "execution_count": 33,
   "metadata": {},
   "outputs": [
    {
     "ename": "SyntaxError",
     "evalue": "invalid syntax (<ipython-input-33-efc37d3a7529>, line 3)",
     "output_type": "error",
     "traceback": [
      "\u001b[1;36m  File \u001b[1;32m\"<ipython-input-33-efc37d3a7529>\"\u001b[1;36m, line \u001b[1;32m3\u001b[0m\n\u001b[1;33m    naftisol_mean_numpy = np.mean(Tumor Volume (mm3))\u001b[0m\n\u001b[1;37m                                        ^\u001b[0m\n\u001b[1;31mSyntaxError\u001b[0m\u001b[1;31m:\u001b[0m invalid syntax\n"
     ]
    }
   ],
   "source": [
    "Naftisol\n",
    "#mean\n",
    "naftisol_mean_numpy = np.mean(Tumor Volume (mm3))\n",
    "print(f\"The mean tumor volume for Naftisol is {round(naftisol_mean_numpy),2} mm3.\")\n",
    "\n",
    "#median\n",
    "naftisol_median_numpy = np.median(Tumor Volume (mm3))\n",
    "print(f\"The median tumor volume for Naftisol is {round(naftisol_median_numpy),2}\")\n",
    "\n",
    "#variance\n",
    "naftisol_var_numpy = np.var(Tumor Volume (mm3),ddof = 0)\n",
    "print(f\"The population variance for Naftisol using the NumPy module is {round(naftisol_var_numpy),2}\")\n",
    "\n",
    "#standard deviationNaftisol\n",
    "naftisol_sd_numpy = np.std((Tumor Volume (mm3),ddof = 0)\n",
    "print(f\"The population standard deviation for Naftisol using the NumPy module is {round(naftisol_sd_numpy),2}\")\n",
    "\n",
    "#SEM\n",
    "sample = naftisol_tumor_volume.sample(30)\n",
    "print(f\"The SEM value for the Naftisol sample of tumor volume is {sem(sample.naftisol.Tumor Volume (mm3)}\")     "
   ]
  },
  {
   "cell_type": "code",
   "execution_count": 34,
   "metadata": {},
   "outputs": [
    {
     "ename": "SyntaxError",
     "evalue": "invalid syntax (<ipython-input-34-27b5037ac785>, line 3)",
     "output_type": "error",
     "traceback": [
      "\u001b[1;36m  File \u001b[1;32m\"<ipython-input-34-27b5037ac785>\"\u001b[1;36m, line \u001b[1;32m3\u001b[0m\n\u001b[1;33m    zoniferol_mean_numpy = np.mean(Tumor Volume (mm3))\u001b[0m\n\u001b[1;37m                                         ^\u001b[0m\n\u001b[1;31mSyntaxError\u001b[0m\u001b[1;31m:\u001b[0m invalid syntax\n"
     ]
    }
   ],
   "source": [
    "Zoniferol\n",
    "#mean\n",
    "zoniferol_mean_numpy = np.mean(Tumor Volume (mm3))\n",
    "print(f\"The mean tumor volume for Zoniferol is {round(zoniferol_zoniferolmean_numpy),2} mm3.\")\n",
    "\n",
    "#medianzoniferol\n",
    "zoniferol_median_numpy = np.median(Tumor Volume (mm3))\n",
    "print(f\"The median tumor volume for Zoniferol is {round(zoniferol_median_numpy),2}\")\n",
    "\n",
    "#variance\n",
    "zoniferol_var_numpy = np.var(Tumor Volume (mm3),ddof = 0)\n",
    "print(f\"The population variance for Zoniferol using the NumPy module is {round(zoniferol_var_numpy),2}\")\n",
    "\n",
    "#standard deviation\n",
    "zoniferol_sd_numpy = np.std((Tumor Volume (mm3),ddof = 0)\n",
    "print(f\"The population standard deviation for Zoniferol using the NumPy module is {round(zoniferol_sd_numpy),2}\")\n",
    "\n",
    "#SEM\n",
    "sample = zoniferol_tumor_volume.sample(30)\n",
    "print(f\"The SEM value for the Zoniferol sample of tumor volume is {sem(sample.zoniferol.Tumor Volume (mm3)}\")     "
   ]
  },
  {
   "cell_type": "code",
   "execution_count": 35,
   "metadata": {},
   "outputs": [
    {
     "ename": "SyntaxError",
     "evalue": "invalid syntax (<ipython-input-35-4765dec18231>, line 3)",
     "output_type": "error",
     "traceback": [
      "\u001b[1;36m  File \u001b[1;32m\"<ipython-input-35-4765dec18231>\"\u001b[1;36m, line \u001b[1;32m3\u001b[0m\n\u001b[1;33m    placebo_mean_numpy = np.mean(Tumor Volume (mm3))\u001b[0m\n\u001b[1;37m                                       ^\u001b[0m\n\u001b[1;31mSyntaxError\u001b[0m\u001b[1;31m:\u001b[0m invalid syntax\n"
     ]
    }
   ],
   "source": [
    "Placebo\n",
    "#mean\n",
    "placebo_mean_numpy = np.mean(Tumor Volume (mm3))\n",
    "print(f\"The mean tumor volume for Placebo is {round(placebo_mean_numpy),2} mm3.\")\n",
    "\n",
    "#median\n",
    "placebo_median_numpy = np.median(Tumor Volume (mm3))\n",
    "print(f\"The median tumor volume for Placebo is {round(placebo_median_numpy),2}\")\n",
    "\n",
    "#variance\n",
    "placebo_var_numpy = np.var(Tumor Volume (mm3),ddof = 0)\n",
    "print(f\"The population variance for Placebo using the NumPy module is {round(placebo_var_numpy),2}\")\n",
    "\n",
    "#standard deviation\n",
    "placebo_sd_numpy = np.std((Tumor Volume (mm3),ddof = 0)\n",
    "print(f\"The population standard deviation for Placebo using the NumPy module is {round(placebo_sd_numpy),2}\")\n",
    "\n",
    "#SEM\n",
    "sample = placebo_tumor_volume.sample(30)\n",
    "print(f\"The SEM value for the Placebo sample of tumor volume is {sem(sample.placebo.Tumor Volume (mm3)}\")     "
   ]
  },
  {
   "cell_type": "code",
   "execution_count": 36,
   "metadata": {},
   "outputs": [
    {
     "ename": "SyntaxError",
     "evalue": "invalid syntax (<ipython-input-36-b035d99655c2>, line 3)",
     "output_type": "error",
     "traceback": [
      "\u001b[1;36m  File \u001b[1;32m\"<ipython-input-36-b035d99655c2>\"\u001b[1;36m, line \u001b[1;32m3\u001b[0m\n\u001b[1;33m    stelasyn_mean_numpy = np.mean(Tumor Volume (mm3))\u001b[0m\n\u001b[1;37m                                        ^\u001b[0m\n\u001b[1;31mSyntaxError\u001b[0m\u001b[1;31m:\u001b[0m invalid syntax\n"
     ]
    }
   ],
   "source": [
    "Stelasyn\n",
    "#mean\n",
    "stelasyn_mean_numpy = np.mean(Tumor Volume (mm3))\n",
    "print(f\"The mean tumor volume for Stelasyn is {round(stelasyn_mean_numpy),2} mm3.\")\n",
    "\n",
    "#median\n",
    "stelasyn_median_numpy = np.median(Tumor Volume (mm3))\n",
    "print(f\"The median tumor volume for Stelasyn is {round(stelasyn_median_numpy),2}\")\n",
    "\n",
    "#variance\n",
    "stelasyn_var_numpy = np.var(Tumor Volume (mm3),ddof = 0)\n",
    "print(f\"The population variance for Stelasyn using the NumPy module is {round(stelasyn_var_numpy),2}\")\n",
    "\n",
    "#standard deviation\n",
    "stelasyn_sd_numpy = np.std((Tumor Volume (mm3),ddof = 0)\n",
    "print(f\"The population standard deviation for Stelasyn using the NumPy module is {round(stelasyn_sd_numpy),2}\")\n",
    "\n",
    "#SEM\n",
    "sample = stelasyn_tumor_volume.sample(30)\n",
    "print(f\"The SEM value for the Stelasyn sample of tumor volume is {sem(sample.stelasyn.Tumor Volume (mm3)}\")     "
   ]
  },
  {
   "cell_type": "code",
   "execution_count": 37,
   "metadata": {},
   "outputs": [
    {
     "ename": "SyntaxError",
     "evalue": "invalid syntax (<ipython-input-37-37d07d76af03>, line 3)",
     "output_type": "error",
     "traceback": [
      "\u001b[1;36m  File \u001b[1;32m\"<ipython-input-37-37d07d76af03>\"\u001b[1;36m, line \u001b[1;32m3\u001b[0m\n\u001b[1;33m    ceftamin_mean_numpy = np.mean(Tumor Volume (mm3))\u001b[0m\n\u001b[1;37m                                        ^\u001b[0m\n\u001b[1;31mSyntaxError\u001b[0m\u001b[1;31m:\u001b[0m invalid syntax\n"
     ]
    }
   ],
   "source": [
    "Ceftamin\n",
    "#mean\n",
    "ceftamin_mean_numpy = np.mean(Tumor Volume (mm3))\n",
    "print(f\"The mean tumor volume for Ceftamin is {round(ceftamin_mean_numpy),2} mm3.\")\n",
    "\n",
    "#median\n",
    "ceftamin_median_numpy = np.median(Tumor Volume (mm3))\n",
    "print(f\"The median tumor volume for Ceftamin is {round(ceftamin_median_numpy),2}\")\n",
    "\n",
    "#variance\n",
    "ceftamin_var_numpy = np.var(Tumor Volume (mm3),ddof = 0)\n",
    "print(f\"The population variance for Ceftamin using the NumPy module is {round(ceftamin_var_numpy),2}\")\n",
    "\n",
    "#standard deviation\n",
    "ceftamin_sd_numpy = np.std((Tumor Volume (mm3),ddof = 0)\n",
    "print(f\"The population standard deviation for Ceftamin using the NumPy module is {round(ceftamin_sd_numpy),2}\")\n",
    "\n",
    "#SEM\n",
    "sample = ceftamin_tumor_volume.sample(30)\n",
    "print(f\"The SEM value for the Ceftamin sample of tumor volume is {sem(sample.ceftamin.Tumor Volume (mm3)}\")     "
   ]
  },
  {
   "cell_type": "code",
   "execution_count": 38,
   "metadata": {},
   "outputs": [
    {
     "ename": "SyntaxError",
     "evalue": "invalid syntax (<ipython-input-38-795e6bb3b3a9>, line 3)",
     "output_type": "error",
     "traceback": [
      "\u001b[1;36m  File \u001b[1;32m\"<ipython-input-38-795e6bb3b3a9>\"\u001b[1;36m, line \u001b[1;32m3\u001b[0m\n\u001b[1;33m    infubinol_mean_numpy = np.mean(Tumor Volume (mm3))\u001b[0m\n\u001b[1;37m                                         ^\u001b[0m\n\u001b[1;31mSyntaxError\u001b[0m\u001b[1;31m:\u001b[0m invalid syntax\n"
     ]
    }
   ],
   "source": [
    "Infubinol\n",
    "#mean\n",
    "infubinol_mean_numpy = np.mean(Tumor Volume (mm3))\n",
    "print(f\"The mean tumor volume for Infubinol is {round(infubinol_mean_numpy),2} mm3.\")\n",
    "\n",
    "#median\n",
    "infubinol_median_numpy = np.median(Tumor Volume (mm3))\n",
    "print(f\"The median tumor volume for Infubinol is {round(infubinol_median_numpy),2}\")\n",
    "\n",
    "#variance\n",
    "infubinol_var_numpy = np.var(Tumor Volume (mm3),ddof = 0)\n",
    "print(f\"The population variance for Infubinol using the NumPy module is {round(infubinol_var_numpy),2}\")\n",
    "\n",
    "#standard deviation\n",
    "infubinol_sd_numpy = np.std((Tumor Volume (mm3),ddof = 0)\n",
    "print(f\"The population standard deviation for Infubinol using the NumPy module is {round(infubinol_sd_numpy),2}\")\n",
    "\n",
    "#SEM\n",
    "sample = infubinol_tumor_volume.sample(30)\n",
    "print(f\"The SEM value for the Infubinol sample of tumor volume is {sem(sample.infubinol.Tumor Volume (mm3)}\")     "
   ]
  },
  {
   "cell_type": "code",
   "execution_count": 39,
   "metadata": {},
   "outputs": [
    {
     "ename": "SyntaxError",
     "evalue": "invalid syntax (<ipython-input-39-e55c67839aae>, line 3)",
     "output_type": "error",
     "traceback": [
      "\u001b[1;36m  File \u001b[1;32m\"<ipython-input-39-e55c67839aae>\"\u001b[1;36m, line \u001b[1;32m3\u001b[0m\n\u001b[1;33m    propiva_mean_numpy = np.mean(Tumor Volume (mm3))\u001b[0m\n\u001b[1;37m                                       ^\u001b[0m\n\u001b[1;31mSyntaxError\u001b[0m\u001b[1;31m:\u001b[0m invalid syntax\n"
     ]
    }
   ],
   "source": [
    "Propriva\n",
    "#mean\n",
    "propiva_mean_numpy = np.mean(Tumor Volume (mm3))\n",
    "print(f\"The mean tumor volume for Propriva is {round(propiva_mean_numpy),2} mm3.\")\n",
    "\n",
    "#median\n",
    "propiva_median_numpy = np.median(Tumor Volume (mm3))\n",
    "print(f\"The median tumor volume for Propriva is {round(propiva_median_numpy),2}\")\n",
    "\n",
    "#variance\n",
    "propiva_var_numpy = np.var(Tumor Volume (mm3),ddof = 0)\n",
    "print(f\"The population variance for Propriva using the NumPy module is {round(propiva_var_numpy),2}\")\n",
    "\n",
    "#standard deviation\n",
    "propiva_sd_numpy = np.std((Tumor Volume (mm3),ddof = 0)\n",
    "print(f\"The population standard deviation for Propriva using the NumPy module is {round(propiva_sd_numpy),2}\")\n",
    "\n",
    "#SEM\n",
    "sample = propiva_tumor_volume.sample(30)\n",
    "print(f\"The SEM value for the Propriva sample of tumor volume is {sem(sample.propiva.Tumor Volume (mm3)}\")     "
   ]
  },
  {
   "cell_type": "code",
   "execution_count": 40,
   "metadata": {},
   "outputs": [],
   "source": [
    "# Assemble the resulting series into a single summary dataframe."
   ]
  },
  {
   "cell_type": "code",
   "execution_count": 8,
   "metadata": {},
   "outputs": [],
   "source": [
    "# Generate a summary statistics table of mean, median, variance, standard deviation, and SEM of the tumor volume for each regimen\n",
    "\n",
    "# Using the aggregation method, produce the same summary statistics in a single line\n"
   ]
  },
  {
   "cell_type": "markdown",
   "metadata": {},
   "source": [
    "## Bar and Pie Charts"
   ]
  },
  {
   "cell_type": "code",
   "execution_count": 9,
   "metadata": {},
   "outputs": [],
   "source": [
    "# Generate a bar plot showing the total number of timepoints for all mice tested for each drug regimen using Pandas.\n",
    "plt.bar\n"
   ]
  },
  {
   "cell_type": "code",
   "execution_count": 10,
   "metadata": {},
   "outputs": [],
   "source": [
    "# Generate a bar plot showing the total number of timepoints for all mice tested for each drug regimen using pyplot.\n",
    "\n"
   ]
  },
  {
   "cell_type": "code",
   "execution_count": 11,
   "metadata": {},
   "outputs": [],
   "source": [
    "# Generate a pie plot showing the distribution of female versus male mice using Pandas\n",
    "\n"
   ]
  },
  {
   "cell_type": "code",
   "execution_count": 12,
   "metadata": {},
   "outputs": [],
   "source": [
    "# Generate a pie plot showing the distribution of female versus male mice using pyplot\n",
    "\n"
   ]
  },
  {
   "cell_type": "markdown",
   "metadata": {},
   "source": [
    "## Quartiles, Outliers and Boxplots"
   ]
  },
  {
   "cell_type": "code",
   "execution_count": 13,
   "metadata": {},
   "outputs": [],
   "source": [
    "# Calculate the final tumor volume of each mouse across four of the treatment regimens:  \n",
    "# Capomulin, Ramicane, Infubinol, and Ceftamin\n",
    "\n",
    "# Start by getting the last (greatest) timepoint for each mouse\n",
    "clean_mouse_df.loc(\"Timepoint\")\n",
    "\n",
    "# Merge this group df with the original dataframe to get the tumor volume at the last timepoint\n"
   ]
  },
  {
   "cell_type": "code",
   "execution_count": 14,
   "metadata": {},
   "outputs": [],
   "source": [
    "# Put treatments into a list for for loop (and later for plot labels)\n",
    "\n",
    "\n",
    "# Create empty list to fill with tumor vol data (for plotting)\n",
    "tumor volume = [ ]\n",
    "\n",
    "\n",
    "# Calculate the IQR and quantitatively determine if there are any potential outliers. \n",
    "\n",
    "    \n",
    "    # Locate the rows which contain mice on each drug and get the tumor volumes\n",
    "    \n",
    "    \n",
    "    # add subset \n",
    "    \n",
    "    \n",
    "    # Determine outliers using upper and lower bounds\n",
    "    "
   ]
  },
  {
   "cell_type": "code",
   "execution_count": 15,
   "metadata": {},
   "outputs": [],
   "source": [
    "# Generate a box plot of the final tumor volume of each mouse across four regimens of interest\n"
   ]
  },
  {
   "cell_type": "markdown",
   "metadata": {},
   "source": [
    "## Line and Scatter Plots"
   ]
  },
  {
   "cell_type": "code",
   "execution_count": 16,
   "metadata": {},
   "outputs": [],
   "source": [
    "# Generate a line plot of tumor volume vs. time point for a mouse treated with Capomulin\n"
   ]
  },
  {
   "cell_type": "code",
   "execution_count": 17,
   "metadata": {},
   "outputs": [],
   "source": [
    "# Generate a scatter plot of average tumor volume vs. mouse weight for the Capomulin regimen\n"
   ]
  },
  {
   "cell_type": "markdown",
   "metadata": {},
   "source": [
    "## Correlation and Regression"
   ]
  },
  {
   "cell_type": "code",
   "execution_count": 18,
   "metadata": {},
   "outputs": [],
   "source": [
    "# Calculate the correlation coefficient and linear regression model \n",
    "# for mouse weight and average tumor volume for the Capomulin regimen\n"
   ]
  },
  {
   "cell_type": "code",
   "execution_count": null,
   "metadata": {},
   "outputs": [],
   "source": []
  }
 ],
 "metadata": {
  "anaconda-cloud": {},
  "kernelspec": {
   "display_name": "Python 3",
   "language": "python",
   "name": "python3"
  },
  "language_info": {
   "codemirror_mode": {
    "name": "ipython",
    "version": 3
   },
   "file_extension": ".py",
   "mimetype": "text/x-python",
   "name": "python",
   "nbconvert_exporter": "python",
   "pygments_lexer": "ipython3",
   "version": "3.8.8"
  }
 },
 "nbformat": 4,
 "nbformat_minor": 4
}
